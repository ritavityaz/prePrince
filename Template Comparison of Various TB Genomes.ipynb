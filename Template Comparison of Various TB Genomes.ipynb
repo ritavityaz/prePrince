{
 "cells": [
  {
   "cell_type": "markdown",
   "metadata": {},
   "source": [
    "Objective: To compare the repeats for each template, witihin the genome itself, and between different genomes."
   ]
  },
  {
   "cell_type": "markdown",
   "metadata": {},
   "source": [
    "# Imports"
   ]
  },
  {
   "cell_type": "code",
   "execution_count": 4,
   "metadata": {
    "collapsed": true
   },
   "outputs": [],
   "source": [
    "from Bio import SeqIO\n",
    "\n",
    "original = SeqIO.to_dict(SeqIO.parse(\"templates.fasta\", \"fasta\"))\n",
    "\n",
    "\n",
    "\n",
    "\n",
    "\n",
    "H37Rv = SeqIO.to_dict(SeqIO.parse(\"found_templates.fasta\", \"fasta\"))\n",
    "\n",
    "Beijing_391 =  SeqIO.to_dict(SeqIO.parse(\"found_templates_Beijing-391_amplicons.fasta\", \"fasta\"))\n",
    "\n",
    "Beijing_like_1104 = SeqIO.to_dict(SeqIO.parse(\"found_templates_Beijing-like-1104_amplicons.fasta\", \"fasta\"))\n",
    "\n",
    "Beijing_like_50148 = SeqIO.to_dict(SeqIO.parse(\"found_templates_Beijing-like-50148_amplicons.fasta\", \"fasta\"))\n",
    "\n",
    "Beijing_like = SeqIO.to_dict(SeqIO.parse(\"found_templates_Beijing-like_amplicons.fasta\", \"fasta\"))\n",
    "\n",
    "Beijing_like_36918 = SeqIO.to_dict(SeqIO.parse(\"found_templates_Beijing-like-36918_amplicons.fasta\", \"fasta\"))\n",
    "\n",
    "Beijing_like_38774 = SeqIO.to_dict(SeqIO.parse(\"found_templates_Beijing-like-38774_amplicons.fasta\", \"fasta\"))\n",
    "\n",
    "Beijing_like_35049 = SeqIO.to_dict(SeqIO.parse(\"found_templates_Beijing-like-35049_amplicons.fasta\", \"fasta\"))\n",
    "\n",
    "kurono = SeqIO.to_dict(SeqIO.parse(\"found_templates_kurono_amplicons.fasta\", \"fasta\"))\n"
   ]
  },
  {
   "cell_type": "code",
   "execution_count": 13,
   "metadata": {},
   "outputs": [
    {
     "name": "stdout",
     "output_type": "stream",
     "text": [
      "4156\n",
      "H37Rv\n",
      "ACGCGGGCGACCCGCCGCACCCGGCGACAAGCGCCGAGCTTGCGATCGCCCTGAATCCA\n",
      "TGACCACGGATTGCTCTAGTCGGCCGGCGGCGTCCAGGCCGAGCACCGCAAGGCTGATGATCCGGGCCTGGCCCGGCCGAAAGCCCGAGGTCTCGACGTCGATGACGGCCCAACCCCGATCCTGGTGGCTGGCTGGCCGTCCCCAGGTGTGGCTCACAAGACGAGGATGACACGTCCGAGCGACATCACCTGGTCGCTACGCATCGTGTCGGCCCGTAAAACCCGGACGCGGGCGACCCGCCGCACCCGGCGACAAGCGCCGAGCTTGCGATCGCCCTGAATCCAACGCGGGCGACCCGCCGCACCCGGCGACAAGCGCCGAGCTTGCGATCGCCCTGAATCCAACGCGGGCGACCCGCCGCACCCGGCGACAAGCGCCGAGCTTGCGATCGCCCGTAAACTGCCCGGGTGGTAACCACCCGGGCACGCCTGGCCCTAGCCGCCGGCGCGGGCGCACGCTGGGCGTCGCGGGTCACCGGTCGCGGCGCCGGAGCGATGATCGGCGGTCTGGTCGCCATGACCCTGGACCGCTCGATCCTGCGCCAACTCGGGATGGGCCGGCGCACCGTCGTCGTCACCGGCACCAACGGCAAGTCGACCACCACACGGATGACCGCGGCCGCGCTGGGCACGTTGGGAGCCGTGGCCACCAACGCCGAGGGCGCCAACATGGACGCCGGC\n",
      "Beijing_391\n",
      "ACGCGGGCGACCCGCCGCACCCGGCGACAAGCGCCGAGCTTGCGATCGCCCTGAATCCA\n",
      "TGACCACGGATTGCTCTAGTCGGCCGGCGGCGTCCAGGCCGAGCACCGCAAGGCTGATGATCCGGGCCTGGCCCGGCCGAAAGCCCGAGGTCTCGACGTCGATGACGGCCCAACCCCGATCCTGGTGGCTGGCTGGCCGTCCCCAGGTGTGGCTCACAAGACGAGGATGACACGTCCGAGCGACATCACCTGGTCGCTACGCATCGTGTCGGCCCGTAAAACCCGGACGCGGGCGACCCGCCGCACCCGGCGACAAGCGCCGAGCTTGCGATCGCCCTGAATCCAACGCGGGCGACCCGCCGCACCCGGCGACAAGCGCCGAGCTTGCGATCGCCCTGAATCCAACGCGGGCGACCCGCCGCACCCGGCGACAAGCGCCGAGCTTGCGATCGCCCGTAAACTGCCCGGGTGGTAACCACCCGGGCACGCCTGGCCCTAGCCGCCGGCGCGGGCGCACGCTGGGCGTCGCGGGTCACCGGTCGCGGCGCCGGAGCGATGATCGGCGGTCTGGTCGCCATGACCCTGGACCGCTCGATCCTGCGCCAACTCGGGATGGGCCGGCGCACCGTCGTCGTCACCGGCACCAACGGCAAGTCGACCACCACACGGATGACCGCGGCCGCGCTGGGCACGTTGGGAGCCGTGGCCACCAACGCCGAGGGCGCCAACATGGACGCCGGC\n",
      "Beijing_like_1104\n",
      "ACGCGGGCGACCCGCCGCACCCGGCGACAAGCGCCGAGCTTGCGATCGCCCTGAATCCA\n",
      "TGACCACGGATTGCTCTAGTCGGCCGGCGGCGTCCAGGCCGAGCACCGCAAGGCTGATGATCCGGGCCTGGCCCGGCCGAAAGCCCGAGGTCTCGACGTCGATGACGGCCCAACCCCGATCCTGGTGGCTGGCTGGCCGTCCCCAGGTGTGGCTCACAAGACGAGGATGACACGTCCGAGCGACATCACCTGGTCGCTACGCATCGTGTCGGCCCGTAAAACCCGGACGCGGGCGACCCGCCGCACCCGGCGACAAGCGCCGAGCTTGCGATCGCCCTGAATCCAACGCGGGCGACCCGCCGCACCCGGCGACAAGCGCCGAGCTTGCGATCGCCCTGAATCCAACGCGGGCGACCCGCCGCACCCGGCGACAAGCGCCGAGCTTGCGATCGCCCGTAAACTGCCCGGGTGGTAACCACCCGGGCACGCCTGGCCCTAGCCGCCGGCGCGGGCGCACGCTGGGCGTCGCGGGTCACCGGTCGCGGCGCCGGAGCGATGATCGGCGGTCTGGTCGCCATGACCCTGGACCGCTCGATCCTGCGCCAACTCGGGATGGGCCGGCGCACCGTCGTCGTCACCGGCACCAACGGCAAGTCGACCACCACACGGATGACCGCGGCCGCGCTGGGCACGTTGGGAGCCGTGGCCACCAACGCCGAGGGCGCCAACATGGACGCCGGC\n",
      "Beijing_like_50148\n",
      "ACGCGGGCGACCCGCCGCACCCGGCGACAAGCGCCGAGCTTGCGATCGCCCTGAATCCA\n",
      "TGACCACGGATTGCTCTAGTCGGCCGGCGGCGTCCAGGCCGAGCACCGCAAGGCTGATGATCCGGGCCTGGCCCGGCCGAAAGCCCGAGGTCTCGACGTCGATGACGGCCCAACCCCGATCCTGGTGGCTGGCTGGCCGTCCCCAGGTGTGGCTCACAAGACGAGGATGACACGTCCGAGCGACATCACCTGGTCGCTACGCATCGTGTCGGCCCGTAAAACCCGGACGCGGGCGACCCGCCGCACCCGGCGACAAGCGCCGAGCTTGCGATCGCCCTGAATCCAACGCGGGCGACCCGCCGCACCCGGCGACAAGCGCCGAGCTTGCGATCGCCCTGAATCCAACGCGGGCGACCCGCCGCACCCGGCGACAAGCGCCGAGCTTGCGATCGCCCGTAAACTGCCCGGGTGGTAACCACCCGGGCACGCCTGGCCCTAGCCGCCGGCGCGGGCGCACGCTGGGCGTCGCGGGTCACCGGTCGCGGCGCCGGAGCGATGATCGGCGGTCTGGTCGCCATGACCCTGGACCGCTCGATCCTGCGCCAACTCGGGATGGGCCGGCGCACCGTCGTCGTCACCGGCACCAACGGCAAGTCGACCACCACACGGATGACCGCGGCCGCGCTGGGCACGTTGGGAGCCGTGGCCACCAACGCCGAGGGCGCCAACATGGACGCCGGC\n",
      "Beijing_like\n",
      "ACGCGGGCGACCCGCCGCACCCGGCGACAAGCGCCGAGCTTGCGATCGCCCTGAATCCA\n",
      "TGACCACGGATTGCTCTAGTCGGCCGGCGGCGTCCAGGCCGAGCACCGCAAGGCTGATGATCCGGGCCTGGCCCGGCCGAAAGCCCGAGGTCTCGACGTCGATGACGGCCCAACCCCGATCCTGGTGGCTGGCTGGCCGTCCCCAGGTGTGGCTCACAAGACGAGGATGACACGTCCGAGCGACATCACCTGGTCGCTACGCATCGTGTCGGCCCGTAAAACCCGGACGCGGGCGACCCGCCGCACCCGGCGACAAGCGCCGAGCTTGCGATCGCCCTGAATCCAACGCGGGCGACCCGCCGCACCCGGCGACAAGCGCCGAGCTTGCGATCGCCCTGAATCCAACGCGGGCGACCCGCCGCACCCGGCGACAAGCGCCGAGCTTGCGATCGCCCGTAAACTGCCCGGGTGGTAACCACCCGGGCACGCCTGGCCCTAGCCGCCGGCGCGGGCGCACGCTGGGCGTCGCGGGTCACCGGTCGCGGCGCCGGAGCGATGATCGGCGGTCTGGTCGCCATGACCCTGGACCGCTCGATCCTGCGCCAACTCGGGATGGGCCGGCGCACCGTCGTCGTCACCGGCACCAACGGCAAGTCGACCACCACACGGATGACCGCGGCCGCGCTGGGCACGTTGGGAGCCGTGGCCACCAACGCCGAGGGCGCCAACATGGACGCCGGC\n",
      "Beijing_like_36918\n",
      "ACGCGGGCGACCCGCCGCACCCGGCGACAAGCGCCGAGCTTGCGATCGCCCTGAATCCA\n",
      "TGACCACGGATTGCTCTAGTCGGCCGGCGGCGTCCAGGCCGAGCACCGCAAGGCTGATGATCCGGGCCTGGCCCGGCCGAAAGCCCGAGGTCTCGACGTCGATGACGGCCCAACCCCGATCCTGGTGGCTGGCTGGCCGTCCCCAGGTGTGGCTCACAAGACGAGGATGACACGTCCGAGCGACATCACCTGGTCGCTACGCATCGTGTCGGCCCGTAAAACCCGGACGCGGGCGACCCGCCGCACCCGGCGACAAGCGCCGAGCTTGCGATCGCCCTGAATCCAACGCGGGCGACCCGCCGCACCCGGCGACAAGCGCCGAGCTTGCGATCGCCCTGAATCCAACGCGGGCGACCCGCCGCACCCGGCGACAAGCGCCGAGCTTGCGATCGCCCGTAAACTGCCCGGGTGGTAACCACCCGGGCACGCCTGGCCCTAGCCGCCGGCGCGGGCGCACGCTGGGCGTCGCGGGTCACCGGTCGCGGCGCCGGAGCGATGATCGGCGGTCTGGTCGCCATGACCCTGGACCGCTCGATCCTGCGCCAACTCGGGATGGGCCGGCGCACCGTCGTCGTCACCGGCACCAACGGCAAGTCGACCACCACACGGATGACCGCGGCCGCGCTGGGCACGTTGGGAGCCGTGGCCACCAACGCCGAGGGCGCCAACATGGACGCCGGC\n",
      "Beijing_like_38774\n",
      "ACGCGGGCGACCCGCCGCACCCGGCGACAAGCGCCGAGCTTGCGATCGCCCTGAATCCA\n",
      "TGACCACGGATTGCTCTAGTCGGCCGGCGGCGTCCAGGCCGAGCACCGCAAGGCTGATGATCCGGGCCTGGCCCGGCCGAAAGCCCGAGGTCTCGACGTCGATGACGGCCCAACCCCGATCCTGGTGGCTGGCTGGCCGTCCCCAGGTGTGGCTCACAAGACGAGGATGACACGTCCGAGCGACATCACCTGGTCGCTACGCATCGTGTCGGCCCGTAAAACCCGGACGCGGGCGACCCGCCGCACCCGGCGACAAGCGCCGAGCTTGCGATCGCCCTGAATCCAACGCGGGCGACCCGCCGCACCCGGCGACAAGCGCCGAGCTTGCGATCGCCCTGAATCCAACGCGGGCGACCCGCCGCACCCGGCGACAAGCGCCGAGCTTGCGATCGCCCGTAAACTGCCCGGGTGGTAACCACCCGGGCACGCCTGGCCCTAGCCGCCGGCGCGGGCGCACGCTGGGCGTCGCGGGTCACCGGTCGCGGCGCCGGAGCGATGATCGGCGGTCTGGTCGCCATGACCCTGGACCGCTCGATCCTGCGCCAACTCGGGATGGGCCGGCGCACCGTCGTCGTCACCGGCACCAACGGCAAGTCGACCACCACACGGATGACCGCGGCCGCGCTGGGCACGTTGGGAGCCGTGGCCACCAACGCCGAGGGCGCCAACATGGACGCCGGC\n",
      "Beijing_like_35049\n",
      "ACGCGGGCGACCCGCCGCACCCGGCGACAAGCGCCGAGCTTGCGATCGCCCTGAATCCA\n",
      "TGACCACGGATTGCTCTAGTCGGCCGGCGGCGTCCAGGCCGAGCACCGCAAGGCTGATGATCCGGGCCTGGCCCGGCCGAAAGCCCGAGGTCTCGACGTCGATGACGGCCCAACCCCGATCCTGGTGGCTGGCTGGCCGTCCCCAGGTGTGGCTCACAAGACGAGGATGACACGTCCGAGCGACATCACCTGGTCGCTACGCATCGTGTCGGCCCGTAAAACCCGGACGCGGGCGACCCGCCGCACCCGGCGACAAGCGCCGAGCTTGCGATCGCCCTGAATCCAACGCGGGCGACCCGCCGCACCCGGCGACAAGCGCCGAGCTTGCGATCGCCCTGAATCCAACGCGGGCGACCCGCCGCACCCGGCGACAAGCGCCGAGCTTGCGATCGCCCGTAAACTGCCCGGGTGGTAACCACCCGGGCACGCCTGGCCCTAGCCGCCGGCGCGGGCGCACGCTGGGCGTCGCGGGTCACCGGTCGCGGCGCCGGAGCGATGATCGGCGGTCTGGTCGCCATGACCCTGGACCGCTCGATCCTGCGCCAACTCGGGATGGGCCGGCGCACCGTCGTCGTCACCGGCACCAACGGCAAGTCGACCACCACACGGATGACCGCGGCCGCGCTGGGCACGTTGGGAGCCGTGGCCACCAACGCCGAGGGCGCCAACATGGACGCCGGC\n",
      "kurono\n",
      "ACGCGGGCGACCCGCCGCACCCGGCGACAAGCGCCGAGCTTGCGATCGCCCTGAATCCA\n",
      "TGACCACGGATTGCTCTAGTCGGCCGGCGGCGTCCAGGCCGAGCACCGCAAGGCTGATGATCCGGGCCTGGCCCGGCCGAAAGCCCGAGGTCTCGACGTCGATGACGGCCCAACCCCGATCCTGGTGGCTGGCTGGCCGTCCCCAGGTGTGGCTCACAAGACGAGGATGACACGTCCGAGCGACATCACCTGGTCGCTACGCATCGTGTCGGCCCGTAAAACCCGGACGCGGGCGACCCGCCGCACCCGGCGACAAGCGCCGAGCTTGCGATCGCCCTGAATCCAACGCGGGCGACCCGCCGCACCCGGCGACAAGCGCCGAGCTTGCGATCGCCCTGAATCCAACGCGGGCGACCCGCCGCACCCGGCGACAAGCGCCGAGCTTGCGATCGCCCGTAAACTGCCCGGGTGGTAACCACCCGGGCACGCCTGGCCCTAGCCGCCGGCGCGGGCGCACGCTGGGCGTCGCGGGTCACCGGTCGCGGCGCCGGAGCGATGATCGGCGGTCTGGTCGCCATGACCCTGGACCGCTCGATCCTGCGCCAACTCGGGATGGGCCGGCGCACCGTCGTCGTCACCGGCACCAACGGCAAGTCGACCACCACACGGATGACCGCGGCCGCGCTGGGCACGTTGGGAGCCGTGGCCACCAACGCCGAGGGCGCCAACATGGACGCCGGC\n"
     ]
    }
   ],
   "source": [
    "from Bio import SeqIO\n",
    "\n",
    "\n",
    "aH37Rv = SeqIO.to_dict(SeqIO.parse(\"amplicons.fasta\", \"fasta\"))\n",
    "\n",
    "aBeijing_391 =  SeqIO.to_dict(SeqIO.parse(\"Beijing-391_amplicons.fasta\", \"fasta\"))\n",
    "\n",
    "aBeijing_like_1104 = SeqIO.to_dict(SeqIO.parse(\"Beijing-like-1104_amplicons.fasta\", \"fasta\"))\n",
    "\n",
    "aBeijing_like_50148 = SeqIO.to_dict(SeqIO.parse(\"Beijing-like-50148_amplicons.fasta\", \"fasta\"))\n",
    "\n",
    "aBeijing_like = SeqIO.to_dict(SeqIO.parse(\"Beijing-like_amplicons.fasta\", \"fasta\"))\n",
    "\n",
    "aBeijing_like_36918 = SeqIO.to_dict(SeqIO.parse(\"Beijing-like-36918_amplicons.fasta\", \"fasta\"))\n",
    "\n",
    "aBeijing_like_38774 = SeqIO.to_dict(SeqIO.parse(\"Beijing-like-38774_amplicons.fasta\", \"fasta\"))\n",
    "\n",
    "aBeijing_like_35049 = SeqIO.to_dict(SeqIO.parse(\"Beijing-like-35049_amplicons.fasta\", \"fasta\"))\n",
    "\n",
    "akurono = SeqIO.to_dict(SeqIO.parse(\"kurono_amplicons.fasta\", \"fasta\"))\n",
    "\n",
    "\n",
    "\n",
    "\n",
    "aname = \"4156_amp_1\"\n",
    "name = \"4156\"\n",
    "print(name)\n",
    "print(\"H37Rv\")\n",
    "print(H37Rv[name].seq)\n",
    "print(aH37Rv[aname].seq)\n",
    "print(\"Beijing_391\")\n",
    "print(Beijing_391[name].seq)\n",
    "print(aBeijing_391[aname].seq)\n",
    "print(\"Beijing_like_1104\")\n",
    "print(Beijing_like_1104[name].seq)\n",
    "print(aBeijing_like_1104[aname].seq)\n",
    "print(\"Beijing_like_50148\")\n",
    "print(Beijing_like_50148[name].seq)\n",
    "print(aBeijing_like_50148[aname].seq)\n",
    "print(\"Beijing_like\")\n",
    "print(Beijing_like[name].seq)\n",
    "print(aBeijing_like[aname].seq)\n",
    "print(\"Beijing_like_36918\")\n",
    "print(Beijing_like_36918[name].seq)\n",
    "print(aBeijing_like_36918[aname].seq)\n",
    "print(\"Beijing_like_38774\")\n",
    "print(Beijing_like_38774[name].seq)\n",
    "print(aBeijing_like_38774[aname].seq)\n",
    "print(\"Beijing_like_35049\")\n",
    "print(Beijing_like_35049[name].seq)\n",
    "print(aBeijing_like_35049[aname].seq)\n",
    "print(\"kurono\")\n",
    "print(kurono[name].seq)\n",
    "print(akurono[aname].seq)\n",
    "\n",
    "    \n",
    "    \n",
    "\n",
    "\n",
    "\n",
    "\n"
   ]
  },
  {
   "cell_type": "markdown",
   "metadata": {},
   "source": [
    "# 154"
   ]
  },
  {
   "cell_type": "code",
   "execution_count": 46,
   "metadata": {},
   "outputs": [
    {
     "name": "stdout",
     "output_type": "stream",
     "text": [
      "GAGCGGCGCCTATGACTCGCGCCGGCGACGATGCACAGCGAAGCGATGAGGAG\n",
      "GAGCGGCGCCTATGACTCGCGCCGGCGACGATGCACAGCGAAGCGATGAGGAG\n",
      "GAGCGGCGCCTATGACTCGCGCCGGCGACGATGCACAGCGAAGCGATGAGGAG\n",
      "GAGCGGCGCCTATGACTCGCGCCGGCGACGATGCACAGCGAAGCGATGAGGAG\n",
      "GAGCGGCGCCTATGACTCGCGCCGGCGACGATGCACAGCGAAGCGATGAGGAG\n",
      "GAGCGGCGCCTATGACTCGCGCCGGCGACGATGCACAGCGAAGCGATGAGGAG\n",
      "GAGCGGCGCCTATGACTCGCGCCGGCGACGATGCACAGCGAAGCGATGAGGAG\n",
      "GAGCGGCGCCTATGACTCGCGCCGGCGACGATGCACAGCGAAGCGATGAGGAG\n",
      "GAGCGGCGCCTATGACTCGCGCCGGCGACGATGCACAGCGAAGCGATGAGGAG\n",
      "GAGCGGCGCCTATGACTCGCGCCGGCGACGATGCACAGCGAAGCGATGAGGAG\n"
     ]
    }
   ],
   "source": [
    "name = \"154\"\n",
    "\n",
    "print(original[name].seq)\n",
    "print(H37Rv[name].seq)\n",
    "print(Beijing_391[name].seq)\n",
    "print(Beijing_like_1104[name].seq)\n",
    "print(Beijing_like_50148[name].seq)\n",
    "print(Beijing_like[name].seq)\n",
    "print(Beijing_like_36918[name].seq)\n",
    "print(Beijing_like_38774[name].seq)\n",
    "print(Beijing_like_35049[name].seq)\n",
    "print(kurono[name].seq)\n",
    "\n",
    "    \n",
    "    \n",
    "    \n",
    "    \n",
    "    \n",
    "    "
   ]
  },
  {
   "cell_type": "markdown",
   "metadata": {},
   "source": [
    "## 580"
   ]
  },
  {
   "cell_type": "code",
   "execution_count": 47,
   "metadata": {},
   "outputs": [
    {
     "name": "stdout",
     "output_type": "stream",
     "text": [
      "GATGACCTGCGCCGACGACGATGCAGAGCGTAGCGATGAGGTGGGGGCACCACCCGCTTGCGGGGGGAGAGTGGCGCT\n",
      "GATGACCTGCGCCGACGACGATGCAGAGCGTAGCGATGAGGTGGGGGCACCACCCGCTTGCGGGGGAGAGTGGCGCT\n",
      "CACAACGAGAGGAAGAGCTGAGCCGATGACCTGCGCCGACGACGATGCAGAGCGTAGCGATGAGGTGGGGGCACCAC\n",
      "CACAACGAGAGGAAGAGCTGAGCCGATGACCTGCGCCGACGACGATGCAGAGCGTAGCGATGAGGTGGGGGCACCAC\n",
      "CACAACGAGAGGAAGAGCTGAGCCGATGACCTGCGCCGACGACGATGCAGAGCGTAGCGATGAGGTGGGGGCACCAC\n",
      "AGAGCTGAGCCGATGACCTGCGCCGACGACGATGCAGAGCGTAGCGATGAGGTGGGGGCACCACCCGCTTGCGGGG\n",
      "CACAACGAGAGGAAGAGCTGAGCCGATGACCTGCGCCGACGACGATGCAGAGCGTAGCGATGAGGTGGGGGCACCAC\n",
      "CACAACGAGAGGAAGAGCTGAGCCGATGACCTGCGCCGACGACGATGCAGAGCGTAGCGATGAGGTGGGGGCACCAC\n",
      "CACAACGAGAGGAAGAGCTGAGCCGATGACCTGCGCCGACGACGATGCAGAGCGTAGCGATGAGGTGGGGGCACCAC\n",
      "CACAACGAGAGGAAGAGCTGAGCCGATGACCTGCGCCGACGACGATGCAGAGCGTAGCGATGAGGTGGGGGCACCAC\n"
     ]
    }
   ],
   "source": [
    "name = \"580\"\n",
    "print(original[name].seq)\n",
    "print(H37Rv[name].seq)\n",
    "print(Beijing_391[name].seq)\n",
    "print(Beijing_like_1104[name].seq)\n",
    "print(Beijing_like_50148[name].seq)\n",
    "print(Beijing_like[name].seq)\n",
    "print(Beijing_like_36918[name].seq)\n",
    "print(Beijing_like_38774[name].seq)\n",
    "print(Beijing_like_35049[name].seq)\n",
    "print(kurono[name].seq)\n",
    "\n",
    "    "
   ]
  },
  {
   "cell_type": "code",
   "execution_count": 39,
   "metadata": {},
   "outputs": [
    {
     "name": "stdout",
     "output_type": "stream",
     "text": [
      "CACAACGAGAGGAAGAGCTGAGCCGATGACCTGCGCCGACGACGATGCAGAGCGTAGCGATGAGGTGGGGGCACCA-----------------------C-\n",
      "                        ||||||||||||||||||||||||||||||||||||||||||||||||||||||||||||||||||||||||||||\n",
      "------------------------GATGACCTGCGCCGACGACGATGCAGAGCGTAGCGATGAGGTGGGGGCACCACCCGCTTGCGGGGGAGAGTGGCGCT\n",
      "  Score=53\n",
      "\n",
      "AGAGCTGAGCCGATGACCTGCGCCGACGACGATGCAGAGCGTAGCGATGAGGTGGGGGCACCACCCGCTTGCGGG----------G--\n",
      "           |||||||||||||||||||||||||||||||||||||||||||||||||||||||||||||||||||||||||||\n",
      "-----------GATGACCTGCGCCGACGACGATGCAGAGCGTAGCGATGAGGTGGGGGCACCACCCGCTTGCGGGGGAGAGTGGCGCT\n",
      "  Score=65\n",
      "\n",
      "-A----GAG--------CTGAGCCGATGACCTGCGCCGACGACGATGCAGAGCGTAGCGATGAGGTGGGGGCACCACCCGCTTGCGGGG\n",
      " ||||||||||||||||||||||||||||||||||||||||||||||||||||||||||||||||||||||||||||||||||||\n",
      "CACAACGAGAGGAAGAGCTGAGCCGATGACCTGCGCCGACGACGATGCAGAGCGTAGCGATGAGGTGGGGGCACCA--------C----\n",
      "  Score=64\n",
      "\n"
     ]
    }
   ],
   "source": [
    "from Bio import pairwise2\n",
    "alignment_580_1 = pairwise2.align.localxx(Beijing_391[\"580\"].seq,H37Rv[\"580\"].seq)\n",
    "print(pairwise2.format_alignment(*alignment_580_1[0]))\n",
    "    \n",
    "\n",
    "alignment_580_2 = pairwise2.align.localxx(Beijing_like[\"580\"].seq,H37Rv[\"580\"].seq)\n",
    "print(pairwise2.format_alignment(*alignment_580_2[0]))\n",
    "\n",
    "alignment_580_3 = pairwise2.align.localxx(Beijing_like[\"580\"].seq,Beijing_391[\"580\"].seq)\n",
    "print(pairwise2.format_alignment(*alignment_580_3[0]))\n",
    "\n",
    "    \n",
    "    \n",
    "    \n",
    "    \n",
    "    \n",
    "    "
   ]
  },
  {
   "cell_type": "markdown",
   "metadata": {},
   "source": [
    "## 960"
   ]
  },
  {
   "cell_type": "code",
   "execution_count": 48,
   "metadata": {},
   "outputs": [
    {
     "name": "stdout",
     "output_type": "stream",
     "text": [
      "AGTCAATGGCGCCGCTCCTCCTCATCGCTGCGCTCTGCATCGTCGCCGGCGGT\n",
      "AGTCAATGGCGCCGCTCCTCCTCATCGCTGCGCTCTGCATCGTCGCCGGCGGT\n",
      "AGTCAATGGCGCCGCTCCTCCTCATCGCTGCGCTCTGCATCGTCGCCGGCGGT\n",
      "AGTCAATGGCGCCGCTCCTCCTCATCGCTGCGCTCTGCATCGTCGCCGGCGGT\n",
      "AGTCAATGGCGCCGCTCCTCCTCATCGCTGCGCTCTGCATCGTCGCCGGCGGT\n",
      "AGTCAATGGCGCCGCTCCTCCTCATCGCTGCGCTCTGCATCGTCGCCGGCGGT\n",
      "AGTCAATGGCGCCGCTCCTCCTCATCGCTGCGCTCTGCATCGTCGCCGGCGGT\n",
      "AGTCAATGGCGCCGCTCCTCCTCATCGCTGCGCTCTGCATCGTCGCCGGCGGT\n",
      "AGTCAATGGCGCCGCTCCTCCTCATCGCTGCGCTCTGCATCGTCGCCGGCGGT\n",
      "AGTCAATGGCGCCGCTCCTCCTCATCGCTGCGCTCTGCATCGTCGCCGGCGGT\n"
     ]
    }
   ],
   "source": [
    "name = \"960\"\n",
    "print(original[name].seq)\n",
    "print(H37Rv[name].seq)\n",
    "print(Beijing_391[name].seq)\n",
    "print(Beijing_like_1104[name].seq)\n",
    "print(Beijing_like_50148[name].seq)\n",
    "print(Beijing_like[name].seq)\n",
    "print(Beijing_like_36918[name].seq)\n",
    "print(Beijing_like_38774[name].seq)\n",
    "print(Beijing_like_35049[name].seq)\n",
    "print(kurono[name].seq)\n"
   ]
  },
  {
   "cell_type": "markdown",
   "metadata": {},
   "source": [
    "## 1644 "
   ]
  },
  {
   "cell_type": "code",
   "execution_count": 49,
   "metadata": {},
   "outputs": [
    {
     "name": "stdout",
     "output_type": "stream",
     "text": [
      "GGCGCGGTTCACGAGCGCCGCTCCTCCTCATCGCTTCGCTCTGCATCGTCGTC\n",
      "GGCGCGGTTCACGAGCGCCGCTCCTCCTCATCGCTTCGCTCTGCATCGTCGTC\n",
      "GGCGCGGTTCACGAGCGCCGCTCCTCCTCATCGCTTCGCTCTGCATCGTCGTC\n",
      "GGCGCGGTTCACGAGCGCCGCTCCTCCTCATCGCTTCGCTCTGCATCGTCGTC\n",
      "GGCGCGGTTCACGAGCGCCGCTCCTCCTCATCGCTTCGCTCTGCATCGTCGTC\n",
      "GGCGCGGTTCACGAGCGCCGCTCCTCCTCATCGCTTCGCTCTGCATCGTCGTC\n",
      "GGCGCGGTTCACGAGCGCCGCTCCTCCTCATCGCTTCGCTCTGCATCGTCGTC\n",
      "GGCGCGGTTCACGAGCGCCGCTCCTCCTCATCGCTTCGCTCTGCATCGTCGTC\n",
      "GGCGCGGTTCACGAGCGCCGCTCCTCCTCATCGCTTCGCTCTGCATCGTCGTC\n",
      "GGCGCGGTTCACGAGCGCCGCTCCTCCTCATCGCTTCGCTCTGCATCGTCGTC\n"
     ]
    }
   ],
   "source": [
    "name = \"1644\"\n",
    "print(original[name].seq)\n",
    "print(H37Rv[name].seq)\n",
    "print(Beijing_391[name].seq)\n",
    "print(Beijing_like_1104[name].seq)\n",
    "print(Beijing_like_50148[name].seq)\n",
    "print(Beijing_like[name].seq)\n",
    "print(Beijing_like_36918[name].seq)\n",
    "print(Beijing_like_38774[name].seq)\n",
    "print(Beijing_like_35049[name].seq)\n",
    "print(kurono[name].seq)"
   ]
  },
  {
   "cell_type": "markdown",
   "metadata": {},
   "source": [
    "## 2059 "
   ]
  },
  {
   "cell_type": "code",
   "execution_count": 50,
   "metadata": {},
   "outputs": [
    {
     "name": "stdout",
     "output_type": "stream",
     "text": [
      "GAGCGGCGCCAATGAGCCGCGCCGGCGACGATGCAGTGGGGGTACCGCCCGCTTGCGGGGGACGAAGCGATGACGAG\n",
      "GAGCGGCGCCAATGAGCCGCGCCGGCGACGATGCAGTGGGGGTACCGCCCGCTTGCGGGGGACGAAGCGATGACGAG\n",
      "GAGCGGCGCCAATGAGCCGCGCCGGCGACGATGCAGTGGGGGTACCGCCCGCTTGCGGGGGACGAAGCGATGACGAG\n",
      "GAGCGGCGCCAATGAGCCGCGCCGGCGACGATGCAGTGGGGGTACCGCCCGCTTGCGGGGGACGAAGCGATGACGAG\n",
      "GAGCGGCGCCAATGAGCCGCGCCGGCGACGATGCAGTGGGGGTACCGCCCGCTTGCGGGGGACGAAGCGATGACGAG\n",
      "GAGCGGCGCCAATGAGCCGCGCCGGCGACGATGCAGTGGGGGTACCGCCCGCTTGCGGGGGACGAAGCGATGACGAG\n",
      "GAGCGGCGCCAATGAGCCGCGCCGGCGACGATGCAGTGGGGGTACCGCCCGCTTGCGGGGGACGAAGCGATGACGAG\n",
      "GAGCGGCGCCAATGAGCCGCGCCGGCGACGATGCAGTGGGGGTACCGCCCGCTTGCGGGGGACGAAGCGATGACGAG\n",
      "GAGCGGCGCCAATGAGCCGCGCCGGCGACGATGCAGTGGGGGTACCGCCCGCTTGCGGGGGACGAAGCGATGACGAG\n",
      "GAGCGGCGCCAATGAGCCGCGCCGGCGACGATGCAGTGGGGGTACCGCCCGCTTGCGGGGGACGAAGCGATGACGAG\n"
     ]
    }
   ],
   "source": [
    "name = \"2059\"\n",
    "print(original[name].seq)\n",
    "print(H37Rv[name].seq)\n",
    "print(Beijing_391[name].seq)\n",
    "print(Beijing_like_1104[name].seq)\n",
    "print(Beijing_like_50148[name].seq)\n",
    "print(Beijing_like[name].seq)\n",
    "print(Beijing_like_36918[name].seq)\n",
    "print(Beijing_like_38774[name].seq)\n",
    "print(Beijing_like_35049[name].seq)\n",
    "print(kurono[name].seq)"
   ]
  },
  {
   "cell_type": "markdown",
   "metadata": {},
   "source": [
    "## 2531"
   ]
  },
  {
   "cell_type": "code",
   "execution_count": 51,
   "metadata": {},
   "outputs": [
    {
     "name": "stdout",
     "output_type": "stream",
     "text": [
      "CTCATCTGCGCCGCTCCTGCTCATCGCTTCGCTCTGCATCGTCACCGGCGCGA\n",
      "CTCATCTGCGCCGCTCCTCCTCATCGCTTCGCTCTGCATCGTCACCGGCGCGA\n",
      "CTCATCTGCGCCGCTCCTCCTCATCGCTTCGCTCTGCATCGTCACCGGCGCGA\n",
      "CTCATCTGCGCCGCTCCTCCTCATCGCTTCGCTCTGCATCGTCACCGGCGCGA\n",
      "CTCATCTGCGCCGCTCCTCCTCATCGCTTCGCTCTGCATCGTCACCGGCGCGA\n",
      "CTCATCTGCGCCGCTCCTCCTCATCGCTTCGCTCTGCATCGTCACCGGCGCGA\n",
      "CTCATCTGCGCCGCTCCTCCTCATCGCTTCGCTCTGCATCGTCACCGGCGCGA\n",
      "CTCATCTGCGCCGCTCCTCCTCATCGCTTCGCTCTGCATCGTCACCGGCGCGA\n",
      "CTCATCTGCGCCGCTCCTCCTCATCGCTTCGCTCTGCATCGTCACCGGCGCGA\n",
      "CTCATCTGCGCCGCTCCTCCTCATCGCTTCGCTCTGCATCGTCACCGGCGCGA\n"
     ]
    }
   ],
   "source": [
    "name = \"2531\"\n",
    "print(original[name].seq)\n",
    "print(H37Rv[name].seq)\n",
    "print(Beijing_391[name].seq)\n",
    "print(Beijing_like_1104[name].seq)\n",
    "print(Beijing_like_50148[name].seq)\n",
    "print(Beijing_like[name].seq)\n",
    "print(Beijing_like_36918[name].seq)\n",
    "print(Beijing_like_38774[name].seq)\n",
    "print(Beijing_like_35049[name].seq)\n",
    "print(kurono[name].seq)"
   ]
  },
  {
   "cell_type": "markdown",
   "metadata": {},
   "source": [
    "## 2687"
   ]
  },
  {
   "cell_type": "code",
   "execution_count": 52,
   "metadata": {},
   "outputs": [
    {
     "name": "stdout",
     "output_type": "stream",
     "text": [
      "GTGACCGCGCCGGCGACGATGCAGAGCGCAGCGATGCTGAGGAGCGGCGCCA\n",
      "TGCGGGTTGCACGCCTCGTGACCGCGCCGGCGACGATGCAGAGCGCAGCGATGC\n",
      "TGCGGGTTGCACGCCTCGTGACCGCGCCGGCGACGATGCAGAGCGCAGCGATGC\n",
      "TGCGGGTTGCACGCCTCGTGACCGCGCCGGCGACGATGCAGAGCGCAGCGATGC\n",
      "TGCGGGTTGCACGCCTCGTGACCGCGCCGGCGACGATGCAGAGCGCAGCGATGC\n",
      "TGCGGGTTGCACGCCTCGTGACCGCGCCGGCGACGATGCAGAGCGCAGCGATGC\n",
      "TGCGGGTTGCACGCCTCGTGACCGCGCCGGCGACGATGCAGAGCGCAGCGATGC\n",
      "TGCGGGTTGCACGCCTCGTGACCGCGCCGGCGACGATGCAGAGCGCAGCGATGC\n",
      "TGCGGGTTGCACGCCTCGTGACCGCGCCGGCGACGATGCAGAGCGCAGCGATGC\n",
      "TGCGGGTTGCACGCCTCGTGACCGCGCCGGCGACGATGCAGAGCGCAGCGATGC\n"
     ]
    }
   ],
   "source": [
    "name = \"2687\"\n",
    "print(original[name].seq)\n",
    "print(H37Rv[name].seq)\n",
    "print(Beijing_391[name].seq)\n",
    "print(Beijing_like_1104[name].seq)\n",
    "print(Beijing_like_50148[name].seq)\n",
    "print(Beijing_like[name].seq)\n",
    "print(Beijing_like_36918[name].seq)\n",
    "print(Beijing_like_38774[name].seq)\n",
    "print(Beijing_like_35049[name].seq)\n",
    "print(kurono[name].seq)"
   ]
  },
  {
   "cell_type": "code",
   "execution_count": 78,
   "metadata": {},
   "outputs": [
    {
     "name": "stdout",
     "output_type": "stream",
     "text": [
      "TGGCGCCGC-TCCT-CA-GCA-TCGCTG-C-GCT-CT-G-C-ATCG-TCGCC-G-GCGCG-GTC-A--C\n",
      "|||||||||||||||||||||||||||||||||||||||||||||||||||||||||||||||||||||\n",
      "T-GCG--G-GT--TGCACGC-CTCG-TGACCGC-GC-CGGCGA-CGAT-G-CAGAGCGC-AG-CGATGC\n",
      "  Score=37\n",
      "\n",
      "-G----T-GAC-CGCGC-CGGC-GAC-GAT-GCA-GAGCGCAGCGATGCTGAGGAGCGGC-GCC-A---\n",
      " |||||||||||||||||||||||||||||||||||||||||||||||||||||||||||||||||\n",
      "TGCGGGTTG-CACGC-CTC-G-TGACCG--CGC-CG-GCG-A-CGATGC--A-GAGC-GCAG-CGATGC\n",
      "  Score=37\n",
      "\n"
     ]
    }
   ],
   "source": [
    "from Bio import pairwise2\n",
    "\n",
    "\n",
    "alignment_2687_1 = pairwise2.align.localxx(original[\"2687\"].seq.reverse_complement(),H37Rv[\"2687\"].seq)\n",
    "print(pairwise2.format_alignment(*alignment_2687_1[0]))\n",
    "    \n",
    "alignment_2687_1 = pairwise2.align.localxx(original[\"2687\"].seq,H37Rv[\"2687\"].seq)\n",
    "print(pairwise2.format_alignment(*alignment_2687_1[0]))\n",
    "    \n",
    "    "
   ]
  },
  {
   "cell_type": "markdown",
   "metadata": {},
   "source": [
    "## 2996 "
   ]
  },
  {
   "cell_type": "code",
   "execution_count": 53,
   "metadata": {},
   "outputs": [
    {
     "name": "stdout",
     "output_type": "stream",
     "text": [
      "TGACCTCCGCCGGCGACGATGCAGAGCGCAGCGATGAGGAGGAGCGGCGCT\n",
      "TGACCTCCGCCGGCGACGATGCAGAGCGCAGCGATGAGGAGGAGCGGCGCT\n",
      "TGACCTCCGCCGGCGACGATGCAGAGCGCAGCGATGAGGAGGAGCGGCGCT\n",
      "TGACCTCCGCCGGCGACGATGCAGAGCGCAGCGATGAGGAGGAGCGGCGCT\n",
      "TGACCTCCGCCGGCGACGATGCAGAGCGCAGCGATGAGGAGGAGCGGCGCT\n",
      "TGACCTCCGCCGGCGACGATGCAGAGCGCAGCGATGAGGAGGAGCGGCGCT\n",
      "TGACCTCCGCCGGCGACGATGCAGAGCGCAGCGATGAGGAGGAGCGGCGCT\n",
      "TGACCTCCGCCGGCGACGATGCAGAGCGCAGCGATGAGGAGGAGCGGCGCT\n",
      "TGACCTCCGCCGGCGACGATGCAGAGCGCAGCGATGAGGAGGAGCGGCGCT\n",
      "TGACCTCCGCCGGCGACGATGCAGAGCGCAGCGATGAGGAGGAGCGGCGCT\n"
     ]
    }
   ],
   "source": [
    "name = \"2996\"\n",
    "print(original[name].seq)\n",
    "print(H37Rv[name].seq)\n",
    "print(Beijing_391[name].seq)\n",
    "print(Beijing_like_1104[name].seq)\n",
    "print(Beijing_like_50148[name].seq)\n",
    "print(Beijing_like[name].seq)\n",
    "print(Beijing_like_36918[name].seq)\n",
    "print(Beijing_like_38774[name].seq)\n",
    "print(Beijing_like_35049[name].seq)\n",
    "print(kurono[name].seq)"
   ]
  },
  {
   "cell_type": "markdown",
   "metadata": {},
   "source": [
    "## 3007"
   ]
  },
  {
   "cell_type": "code",
   "execution_count": 54,
   "metadata": {},
   "outputs": [
    {
     "name": "stdout",
     "output_type": "stream",
     "text": [
      "CTGCATCGTCGCCGGCGCGGGTCACTGGCGCCGCTCCTCCCCATCGCTTTGCT\n",
      "CTGCATCGTCGCCGGCGCGGGTCACTGGCGCCGCTCCTCCCCATCGCTTTGCT\n",
      "CACCCG\n",
      "CACCCG\n",
      "CACCCG\n",
      "CACCCG\n",
      "CACCCG\n",
      "CACCCG\n",
      "CACCCG\n",
      "CTGCATCGTCGCCGGCGCGGGTCACTGGCGCCGCTCCTCCCCATCGCTTTGCT\n"
     ]
    }
   ],
   "source": [
    "name = \"3007\"\n",
    "print(original[name].seq)\n",
    "print(H37Rv[name].seq)\n",
    "print(Beijing_391[name].seq)\n",
    "print(Beijing_like_1104[name].seq)\n",
    "print(Beijing_like_50148[name].seq)\n",
    "print(Beijing_like[name].seq)\n",
    "print(Beijing_like_36918[name].seq)\n",
    "print(Beijing_like_38774[name].seq)\n",
    "print(Beijing_like_35049[name].seq)\n",
    "print(kurono[name].seq)"
   ]
  },
  {
   "cell_type": "markdown",
   "metadata": {},
   "source": [
    "## 3192"
   ]
  },
  {
   "cell_type": "code",
   "execution_count": 55,
   "metadata": {},
   "outputs": [
    {
     "name": "stdout",
     "output_type": "stream",
     "text": [
      "CATCTGCGCCGCTCCTCCTCATCGCTGCGCTCTGCATCGTCGCCGGCGCCAAC\n",
      "CAATCATCTGCGCCGCTCCTCCTCATCGCTGCGCTCTGCATCGTCGCCGGCGC\n",
      "CATCTGCGCCGCTCCTCCTCATCGCTGCGCTCTGCATCGTCGCCGGCGCCAAC\n",
      "CATCTGCGCCGCTCCTCCTCATCGCTGCGCTCTGCATCGTCGCCGGCGCCAAC\n",
      "CATCTGCGCCGCTCCTCCTCATCGCTGCGCTCTGCATCGTCGCCGGCGCCAAC\n",
      "CATCTGCGCCGCTCCTCCTCATCGCTGCGCTCTGCATCGTCGCCGGCGCCAAC\n",
      "CATCTGCGCCGCTCCTCCTCATCGCTGCGCTCTGCATCGTCGCCGGCGCCAAC\n",
      "CATCTGCGCCGCTCCTCCTCATCGCTGCGCTCTGCATCGTCGCCGGCGCCAAC\n",
      "CATCTGCGCCGCTCCTCCTCATCGCTGCGCTCTGCATCGTCGCCGGCGCCAAC\n",
      "CATCTGCGCCGCTCCTCCTCATCGCTGCGCTCTGCATCGTCGCCGGCGCCAAC\n"
     ]
    }
   ],
   "source": [
    "name = \"3192\"\n",
    "print(original[name].seq)\n",
    "print(H37Rv[name].seq)\n",
    "print(Beijing_391[name].seq)\n",
    "print(Beijing_like_1104[name].seq)\n",
    "print(Beijing_like_50148[name].seq)\n",
    "print(Beijing_like[name].seq)\n",
    "print(Beijing_like_36918[name].seq)\n",
    "print(Beijing_like_38774[name].seq)\n",
    "print(Beijing_like_35049[name].seq)\n",
    "print(kurono[name].seq)"
   ]
  },
  {
   "cell_type": "code",
   "execution_count": 40,
   "metadata": {
    "scrolled": true
   },
   "outputs": [
    {
     "name": "stdout",
     "output_type": "stream",
     "text": [
      "CA-TC-T--GCGCCGCTCCTCCTCATCGCTGCGCTCTGCATCGTCGCCGGCGCCAAC\n",
      "|||||||||||||||||||||||||||||||||||||||||||||||||||||||||\n",
      "CAATCATCTGCGCCGCTCCTCCTCATCGCTGCGCTCTGCATCGTCGCCGGCG----C\n",
      "  Score=49\n",
      "\n"
     ]
    }
   ],
   "source": [
    "from Bio import pairwise2\n",
    "alignment_580_1 = pairwise2.align.localxx(Beijing_391[\"3192\"].seq,H37Rv[\"3192\"].seq)\n",
    "print(pairwise2.format_alignment(*alignment_580_1[0]))\n",
    "    "
   ]
  },
  {
   "cell_type": "markdown",
   "metadata": {},
   "source": [
    "## 4348"
   ]
  },
  {
   "cell_type": "code",
   "execution_count": 56,
   "metadata": {},
   "outputs": [
    {
     "name": "stdout",
     "output_type": "stream",
     "text": [
      "CCCGCGCCGGCGACGATGCAAAGCGCAGCGATGAGGAGGAGCGGCGCCAACGG\n",
      "CCGTGACCCGCGCCGGCGACGATGCAAAGCGCAGCGATGAGGAGGAGCGGCGC\n",
      "CCCGCGCCGGCGACGATGCAAAGCGCAGCGATGAGGAGGAGCGGCGCCAACGG\n",
      "CCCGCGCCGGCGACGATGCAAAGCGCAGCGATGAGGAGGAGCGGCGCCAACGG\n",
      "CCCGCGCCGGCGACGATGCAAAGCGCAGCGATGAGGAGGAGCGGCGCCAACGG\n",
      "CCCGCGCCGGCGACGATGCAAAGCGCAGCGATGAGGAGGAGCGGCGCCAACGG\n",
      "CCCGCGCCGGCGACGATGCAAAGCGCAGCGATGAGGAGGAGCGGCGCCAACGG\n",
      "CCCGCGCCGGCGACGATGCAAAGCGCAGCGATGAGGAGGAGCGGCGCCAACGG\n",
      "CCCGCGCCGGCGACGATGCAAAGCGCAGCGATGAGGAGGAGCGGCGCCAACGG\n",
      "CGATG\n"
     ]
    }
   ],
   "source": [
    "name = \"4348\"\n",
    "print(original[name].seq)\n",
    "print(H37Rv[name].seq)\n",
    "print(Beijing_391[name].seq)\n",
    "print(Beijing_like_1104[name].seq)\n",
    "print(Beijing_like_50148[name].seq)\n",
    "print(Beijing_like[name].seq)\n",
    "print(Beijing_like_36918[name].seq)\n",
    "print(Beijing_like_38774[name].seq)\n",
    "print(Beijing_like_35049[name].seq)\n",
    "print(kurono[name].seq)"
   ]
  },
  {
   "cell_type": "code",
   "execution_count": 41,
   "metadata": {},
   "outputs": [
    {
     "name": "stdout",
     "output_type": "stream",
     "text": [
      "CC----C--GCGCCGGCGACGATGCAAAGCGCAGCGATGAGGAGGAGCGGCGCCAACGG\n",
      "|||||||||||||||||||||||||||||||||||||||||||||||||||||||||\n",
      "CCGTGACCCGCGCCGGCGACGATGCAAAGCGCAGCGATGAGGAGGAGCGGCG----C--\n",
      "  Score=47\n",
      "\n"
     ]
    }
   ],
   "source": [
    "from Bio import pairwise2\n",
    "alignment_580_1 = pairwise2.align.localxx(Beijing_391[\"4348\"].seq,H37Rv[\"4348\"].seq)\n",
    "print(pairwise2.format_alignment(*alignment_580_1[0]))\n",
    "    "
   ]
  },
  {
   "cell_type": "markdown",
   "metadata": {},
   "source": [
    "## 802 "
   ]
  },
  {
   "cell_type": "code",
   "execution_count": 57,
   "metadata": {},
   "outputs": [
    {
     "name": "stdout",
     "output_type": "stream",
     "text": [
      "CCGGCCTAGCCCGGCGACGATGCAGAGCGAAGCGATGAGGAGGAGCAGGGCAAT\n",
      "CGAGAG\n",
      "CGAGAG\n",
      "CGAGAG\n",
      "CGAGAG\n",
      "CGAGAG\n",
      "CGAGAG\n",
      "CGAGAG\n",
      "CGAGAG\n",
      "CGAGAG\n"
     ]
    }
   ],
   "source": [
    "name = \"802\"\n",
    "print(original[name].seq)\n",
    "print(H37Rv[name].seq)\n",
    "print(Beijing_391[name].seq)\n",
    "print(Beijing_like_1104[name].seq)\n",
    "print(Beijing_like_50148[name].seq)\n",
    "print(Beijing_like[name].seq)\n",
    "print(Beijing_like_36918[name].seq)\n",
    "print(Beijing_like_38774[name].seq)\n",
    "print(Beijing_like_35049[name].seq)\n",
    "print(kurono[name].seq)"
   ]
  },
  {
   "cell_type": "markdown",
   "metadata": {},
   "source": [
    "## 424"
   ]
  },
  {
   "cell_type": "code",
   "execution_count": 58,
   "metadata": {},
   "outputs": [
    {
     "name": "stdout",
     "output_type": "stream",
     "text": [
      "GCCGGTGAGCGAGCGCGCGTAGCGGGGGAGCGAACGGCGCAGTTGGCACCA\n",
      "GCCGGTGAGCGAGCGCGCGTAGCGGGGGAGCGAACGGCGCAGTTGGCACCA\n",
      "GCCGGTGAGCGAGCGCGCGTAGCGGGGGAGCGAACGGCGCAGTTGGCACCA\n",
      "GCCGGTGAGCGAGCGCGCGTAGCGGGGGAGCGAACGGCGCAGTTGGCACCA\n",
      "GCCGGTGAGCGAGCGCGCGTAGCGGGGGAGCGAACGGCGCAGTTGGCACCA\n",
      "GCCGGTGAGCGAGCGCGCGTAGCGGGGGAGCGAACGGCGCAGTTGGCACCA\n",
      "GCCGGTGAGCGAGCGCGCGTAGCGGGGGAGCGAACGGCGCAGTTGGCACCA\n",
      "GCCGGTGAGCGAGCGCGCGTAGCGGGGGAGCGAACGGCGCAGTTGGCACCA\n",
      "GCCGGTGAGCGAGCGCGCGTAGCGGGGGAGCGAACGGCGCAGTTGGCACCA\n",
      "GCCGGTGAGCGAGCGCGCGTAGCGGGGGAGCGAACGGCGCAGTTGGCACCA\n"
     ]
    }
   ],
   "source": [
    "name = \"424\"\n",
    "print(original[name].seq)\n",
    "print(H37Rv[name].seq)\n",
    "print(Beijing_391[name].seq)\n",
    "print(Beijing_like_1104[name].seq)\n",
    "print(Beijing_like_50148[name].seq)\n",
    "print(Beijing_like[name].seq)\n",
    "print(Beijing_like_36918[name].seq)\n",
    "print(Beijing_like_38774[name].seq)\n",
    "print(Beijing_like_35049[name].seq)\n",
    "print(kurono[name].seq)"
   ]
  },
  {
   "cell_type": "markdown",
   "metadata": {},
   "source": [
    "## 577 "
   ]
  },
  {
   "cell_type": "code",
   "execution_count": 59,
   "metadata": {},
   "outputs": [
    {
     "name": "stdout",
     "output_type": "stream",
     "text": [
      "GCCCGACGACGATGCAGAGCGCGCAGCGCGATGAGAAGGAGTTGGGCGGTTAGGTCGA\n",
      "GCCCGACGACGATGCAGAGCGCGCAGCGCGATGAGAAGGAGTTGGGCGGTTAGGTCGA\n",
      "GCCCGACGACGATGCAGAGCGCGCAGCGCGATGAGAAGGAGTTGGGCGGTTAGGTCGA\n",
      "GCCCGACGACGATGCAGAGCGCGCAGCGCGATGAGAAGGAGTTGGGCGGTTAGGTCGA\n",
      "GCCCGACGACGATGCAGAGCGCGCAGCGCGATGAGAAGGAGTTGGGCGGTTAGGTCGA\n",
      "GCCCGACGACGATGCAGAGCGCGCAGCGCGATGAGAAGGAGTTGGGCGGTTAGGTCGA\n",
      "GCCCGACGACGATGCAGAGCGCGCAGCGCGATGAGAAGGAGTTGGGCGGTTAGGTCGA\n",
      "GCCCGACGACGATGCAGAGCGCGCAGCGCGATGAGAAGGAGTTGGGCGGTTAGGTCGA\n",
      "GCCCGACGACGATGCAGAGCGCGCAGCGCGATGAGAAGGAGTTGGGCGGTTAGGTCGA\n",
      "GCCCGACGACGATGCAGAGCGCGCAGCGCGATGAGAAGGAGTTGGGCGGTTAGGTCGA\n"
     ]
    }
   ],
   "source": [
    "name = \"577\"\n",
    "print(original[name].seq)\n",
    "print(H37Rv[name].seq)\n",
    "print(Beijing_391[name].seq)\n",
    "print(Beijing_like_1104[name].seq)\n",
    "print(Beijing_like_50148[name].seq)\n",
    "print(Beijing_like[name].seq)\n",
    "print(Beijing_like_36918[name].seq)\n",
    "print(Beijing_like_38774[name].seq)\n",
    "print(Beijing_like_35049[name].seq)\n",
    "print(kurono[name].seq)"
   ]
  },
  {
   "cell_type": "markdown",
   "metadata": {},
   "source": [
    "## 1955 "
   ]
  },
  {
   "cell_type": "code",
   "execution_count": 60,
   "metadata": {},
   "outputs": [
    {
     "name": "stdout",
     "output_type": "stream",
     "text": [
      "GTCTGATTGCCCGGTTCCTCCTCGCGCCGCAAACGGCGCGCATCGTCACCGGGCGTC\n",
      "CCTAGTCTGATTGCCCGGTTCCTCCTCGCGCCGCAAACGGCGCGCATCGTCACCGGG\n",
      "TAGTCTGATTGCCCGGTTCCTCCTCGCGCCGCAAACGGCGCGCATCGTCACCGGGCG\n",
      "TAGTCTGATTGCCCGGTTCCTCCTCGCGCCGCAAACGGCGCGCATCGTCACCGGGCG\n",
      "TAGTCTGATTGCCCGGTTCCTCCTCGCGCCGCAAACGGCGCGCATCGTCACCGGGCG\n",
      "TAGTCTGATTGCCCGGTTCCTCCTCGCGCCGCAAACGGCGCGCATCGTCACCGGGCG\n",
      "TAGTCTGATTGCCCGGTTCCTCCTCGCGCCGCAAACGGCGCGCATCGTCACCGGGCG\n",
      "TAGTCTGATTGCCCGGTTCCTCCTCGCGCCGCAAACGGCGCGCATCGTCACCGGGCG\n",
      "TAGTCTGATTGCCCGGTTCCTCCTCGCGCCGCAAACGGCGCGCATCGTCACCGGGCG\n",
      "CCTAGTCTGATTGCCCGGTTCCTCCTCGCGCCGCAAACGGCGCGCATCGTCACCGGG\n"
     ]
    }
   ],
   "source": [
    "name = \"1955\"\n",
    "print(original[name].seq)\n",
    "print(H37Rv[name].seq)\n",
    "print(Beijing_391[name].seq)\n",
    "print(Beijing_like_1104[name].seq)\n",
    "print(Beijing_like_50148[name].seq)\n",
    "print(Beijing_like[name].seq)\n",
    "print(Beijing_like_36918[name].seq)\n",
    "print(Beijing_like_38774[name].seq)\n",
    "print(Beijing_like_35049[name].seq)\n",
    "print(kurono[name].seq)"
   ]
  },
  {
   "cell_type": "markdown",
   "metadata": {},
   "source": [
    "## 2163b "
   ]
  },
  {
   "cell_type": "code",
   "execution_count": 61,
   "metadata": {},
   "outputs": [
    {
     "name": "stdout",
     "output_type": "stream",
     "text": [
      "ATCGGACCGACACCACCCAGCGCGTTCAGGCTCAACGGAATACCAGGAATAGTAATATCAGGCACCACA\n",
      "ATCGGACCGACACCACCCAGCGCGTTCAGGCTCAACGGAATACCAGGAATAGTAATATCAGGCACCACA\n",
      "ATCGGACCGACACCACCCAGCGCGTTCAGGCTCAACGGAATACCAGGAATAGTAATATCCGGCACCACA\n",
      "ATCGGACCGACACCACCCAGCGCGTTCAGGCTCAACGGAATACCAGGAATAGTAATATCCGGCACCACA\n",
      "ATCGGACCGACACCACCCAGCGCGTTCAGGCTCAACGGAATACCAGGAATAGTAATATCCGGCACCACA\n",
      "ATCGGACCGACACCACCCAGCGCGTTCAGGCTCAACGGAATACCAGGAATAGTAATATCCGGCACCACA\n",
      "ATCGGACCGACACCACCCAGCGCGTTCAGGCTCAACGGAATACCAGGAATAGTAATATCCGGCACCACA\n",
      "ATCGGACCGACACCACCCAGCGCGTTCAGGCTCAACGGAATACCAGGAATAGTAATATCCGGCACCACA\n",
      "ATCGGACCGACACCACCCAGCGCGTTCAGGCTCAACGGAATACCAGGAATAGTAATATCCGGCACCACA\n",
      "ATCGGACCGACACCACCCAGCGCGTTCAGGCTCAACGGAATACCAGGAATAGTAATATCCGGCACCACA\n"
     ]
    }
   ],
   "source": [
    "name = \"2163b\"\n",
    "print(original[name].seq)\n",
    "print(H37Rv[name].seq)\n",
    "print(Beijing_391[name].seq)\n",
    "print(Beijing_like_1104[name].seq)\n",
    "print(Beijing_like_50148[name].seq)\n",
    "print(Beijihttp://localhost:8888/notebooks/Template%20Comparison%20of%20Various%20TB%20Genomes.ipynb#2163bng_like[name].seq)\n",
    "print(Beijing_like_36918[name].seq)\n",
    "print(Beijing_like_38774[name].seq)\n",
    "print(Beijing_like_35049[name].seq)\n",
    "print(kurono[name].seq)"
   ]
  },
  {
   "cell_type": "markdown",
   "metadata": {},
   "source": [
    "## 2165"
   ]
  },
  {
   "cell_type": "code",
   "execution_count": 90,
   "metadata": {},
   "outputs": [
    {
     "name": "stdout",
     "output_type": "stream",
     "text": [
      "GATTGCCGGAAGTGAGTAGCCATCCGGGAACACCGTAAACGGGCCTAACCCTCCGCCCACATCAATACCCAACGG\n",
      "CCGCCCACATCAATACCCAACGGGATTGCCGGAAGTGAGTAGCCATCCGGGAACACCGTAAACGGGCCTAACCCT\n",
      "CCGCCCACATCAATACCCAACGGGATTGCCGGAAGTGAGTAGCCATCCGGGAACACCGTAAACGGGCCTAACCCT\n",
      "CCGCCCACATCAATACCCAACGGGATTGCCGGAAGTGAGTAGCCATCCGGGAACACCGTAAACGGGCCTAACCCT\n",
      "CCGCCCACATCAATACCCAACGGGATTGCCGGAAGTGAGTAGCCATCCGGGAACACCGTAAACGGGCCTAACCCT\n",
      "CCGCCCACATCAATACCCAACGGGATTGCCGGAAGTGAGTAGCCATCCGGGAACACCGTAAACGGGCCTAACCCT\n",
      "CCGCCCACATCAATACCCAACGGGATTGCCGGAAGTGAGTAGCCATCCGGGAACACCGTAAACGGGCCTAACCCT\n",
      "CCGCCCACATCAATACCCAACGGGATTGCCGGAAGTGAGTAGCCATCCGGGAACACCGTAAACGGGCCTAACCCT\n",
      "CCGCCCACATCAATACCCAACGGGATTGCCGGAAGTGAGTAGCCATCCGGGAACACCGTAAACGGGCCTAACCCT\n",
      "CCGCCCACATCAATACCCAACGGGATTGCCGGAAGTGAGTAGCCATCCGGGAACACCGTAAACGGGCCTAACCCT\n"
     ]
    }
   ],
   "source": [
    "name = \"2165\"\n",
    "print(original[name].seq.reverse_complement())\n",
    "print(H37Rv[name].seq)\n",
    "print(Beijing_391[name].seq)\n",
    "print(Beijing_like_1104[name].seq)\n",
    "print(Beijing_like_50148[name].seq)\n",
    "print(Beijing_like[name].seq)\n",
    "print(Beijing_like_36918[name].seq)\n",
    "print(Beijing_like_38774[name].seq)\n",
    "print(Beijing_like_35049[name].seq)\n",
    "print(kurono[name].seq)"
   ]
  },
  {
   "cell_type": "markdown",
   "metadata": {},
   "source": [
    "## 2347"
   ]
  },
  {
   "cell_type": "code",
   "execution_count": 63,
   "metadata": {},
   "outputs": [
    {
     "name": "stdout",
     "output_type": "stream",
     "text": [
      "GTGGCGACCCGCCGCACCCGGCTCCGCCGCGCTTGCGATCGCCACTGGACCCAACAA\n",
      "GTGGCGACCCGCCGCACCCGGCTCCGCCGCGCTTGCGATCGCCACTGGACCCAACAA\n",
      "GATCCGATGCGTGGCGACCCGCCGCACCCGGCTCCGCCGCGCTTGCGATCGCCACTG\n",
      "GATCCGATGCGTGGCGACCCGCCGCACCCGGCTCCGCCGCGCTTGCGATCGCCACTG\n",
      "GATCCGATGCGTGGCGACCCGCCGCACCCGGCTCCGCCGCGCTTGCGATCGCCACTG\n",
      "GTGGCGACCCGCCGCACCCGGCTCCGCCGCGCTTGCGATCGCCACTGGACCCAACAA\n",
      "GATCCGATGCGTGGCGACCCGCCGCACCCGGCTCCGCCGCGCTTGCGATCGCCACTG\n",
      "GATCCGATGCGTGGCGACCCGCCGCACCCGGCTCCGCCGCGCTTGCGATCGCCACTG\n",
      "GATCCGATGCGTGGCGACCCGCCGCACCCGGCTCCGCCGCGCTTGCGATCGCCACTG\n",
      "GTGGCGACCCGCCGCACCCGGCTCCGCCGCGCTTGCGATCGCCACTGGACCCAACAA\n"
     ]
    }
   ],
   "source": [
    "name = \"2347\"\n",
    "print(original[name].seq)\n",
    "print(H37Rv[name].seq)\n",
    "print(Beijing_391[name].seq)\n",
    "print(Beijing_like_1104[name].seq)\n",
    "print(Beijing_like_50148[name].seq)\n",
    "print(Beijing_like[name].seq)\n",
    "print(Beijing_like_36918[name].seq)\n",
    "print(Beijing_like_38774[name].seq)\n",
    "print(Beijing_like_35049[name].seq)\n",
    "print(kurono[name].seq)"
   ]
  },
  {
   "cell_type": "code",
   "execution_count": 42,
   "metadata": {},
   "outputs": [
    {
     "name": "stdout",
     "output_type": "stream",
     "text": [
      "GATCCGATGCGTGGCGACCCGCCGCACCCGGCTCCGCCGCGCTTGCGATCGCCACT-G---------\n",
      "          ||||||||||||||||||||||||||||||||||||||||||||||||\n",
      "----------GTGGCGACCCGCCGCACCCGGCTCCGCCGCGCTTGCGATCGCCACTGGACCCAACAA\n",
      "  Score=47\n",
      "\n"
     ]
    }
   ],
   "source": [
    "from Bio import pairwise2\n",
    "alignment_580_1 = pairwise2.align.localxx(Beijing_391[\"2347\"].seq,H37Rv[\"2347\"].seq)\n",
    "print(pairwise2.format_alignment(*alignment_580_1[0]))\n",
    "    "
   ]
  },
  {
   "cell_type": "markdown",
   "metadata": {},
   "source": [
    "## 2401"
   ]
  },
  {
   "cell_type": "code",
   "execution_count": 64,
   "metadata": {},
   "outputs": [
    {
     "name": "stdout",
     "output_type": "stream",
     "text": [
      "TGATTGCCCGGCTCCTCCTCACCCCGTTACCCGGGGCGCATCGTCGCCGAGCTCGATT\n",
      "TGATTGCCTGGCTCCTCCTCACCCCGTTACCCGGGGCGCATCGTCGCCGAGCTCGATT\n",
      "TGATTGCCTGGCTCCTCCTCACCCCGTTACCCGGGGCGCATCGTCGCCGAGCTCGATT\n",
      "TGATTGCCTGGCTCCTCCTCACCCCGTTACCCGGGGCGCATCGTCGCCGAGCTCGATT\n",
      "TGATTGCCTGGCTCCTCCTCACCCCGTTACCCGGGGCGCATCGTCGCCGAGCTCGATT\n",
      "TGATTGCCTGGCTCCTCCTCACCCCGTTACCCGGGGCGCATCGTCGCCGAGCTCGATT\n",
      "TGATTGCCTGGCTCCTCCTCACCCCGTTACCCGGGGCGCATCGTCGCCGAGCTCGATT\n",
      "TGATTGCCTGGCTCCTCCTCACCCCGTTACCCGGGGCGCATCGTCGCCGAGCTCGATT\n",
      "TGATTGCCTGGCTCCTCCTCACCCCGTTACCCGGGGCGCATCGTCGCCGAGCTCGATT\n"
     ]
    }
   ],
   "source": [
    "name = \"2401\"\n",
    "print(original[name].seq)\n",
    "print(H37Rv[name].seq)\n",
    "#print(Beijing_391[name].seq)\n",
    "print(Beijing_like_1104[name].seq)\n",
    "print(Beijing_like_50148[name].seq)\n",
    "print(Beijing_like[name].seq)\n",
    "print(Beijing_like_36918[name].seq)\n",
    "print(Beijing_like_38774[name].seq)\n",
    "print(Beijing_like_35049[name].seq)\n",
    "print(kurono[name].seq)"
   ]
  },
  {
   "cell_type": "markdown",
   "metadata": {},
   "source": [
    "## 2461"
   ]
  },
  {
   "cell_type": "code",
   "execution_count": 65,
   "metadata": {},
   "outputs": [
    {
     "name": "stdout",
     "output_type": "stream",
     "text": [
      "AGCCCGGCGACGACCCGGGTCGGCACGACCCGGGAAGGAACCGGGCAAATCAAGCAC\n",
      "AGCCCGGCGACGACCCGGGTCGGCACGACCCGGGAAGGAACCGGGCAAATCAAGCAC\n",
      "AGCCCGGCGACGACCCGGGTCGGCACGACCCGGGAAGGAACCGGGCAAATCAAGCAC\n",
      "AGCCCGGCGACGACCCGGGTCGGCACGACCCGGGAAGGAACCGGGCAAATCAAGCAC\n",
      "AGCCCGGCGACGACCCGGGTCGGCACGACCCGGGAAGGAACCGGGCAAATCAAGCAC\n",
      "AGCCCGGCGACGACCCGGGTCGGCACGACCCGGGAAGGAACCGGGCAAATCAAGCAC\n",
      "AGCCCGGCGACGACCCGGGTCGGCACGACCCGGGAAGGAACCGGGCAAATCAAGCAC\n",
      "AGCCCGGCGACGACCCGGGTCGGCACGACCCGGGAAGGAACCGGGCAAATCAAGCAC\n",
      "AGCCCGGCGACGACCCGGGTCGGCACGACCCGGGAAGGAACCGGGCAAATCAAGCAC\n",
      "AGCCCGGCGACGACCCGGGTCGGCACGACCCGGGAAGGAACCGGGCAAATCAAGCAC\n"
     ]
    }
   ],
   "source": [
    "name = \"2461\"\n",
    "print(original[name].seq)\n",
    "print(H37Rv[name].seq)\n",
    "print(Beijing_391[name].seq)\n",
    "print(Beijing_like_1104[name].seq)\n",
    "print(Beijing_like_50148[name].seq)\n",
    "print(Beijing_like[name].seq)\n",
    "print(Beijing_like_36918[name].seq)\n",
    "print(Beijing_like_38774[name].seq)\n",
    "print(Beijing_like_35049[name].seq)\n",
    "print(kurono[name].seq)"
   ]
  },
  {
   "cell_type": "markdown",
   "metadata": {},
   "source": [
    "## 3171 "
   ]
  },
  {
   "cell_type": "code",
   "execution_count": 66,
   "metadata": {},
   "outputs": [
    {
     "name": "stdout",
     "output_type": "stream",
     "text": [
      "GGCGATCGCAAGCGCGGCGAAGCCGGGCGCAGCGGGTCGCCACCATCGGACACA\n",
      "GGCGATCGCAAGCGCGGCGAAGCCGGGCGCAGCGGGTCGCCACCATCGGACACA\n",
      "GGCGATCGCAAGCGCGGCGAAGCCGGGCGCAGCGGGTCGCCACCATCGGACACA\n",
      "GGCGATCGCAAGCGCGGCGAAGCCGGGCGCAGCGGGTCGCCACCATCGGACACA\n",
      "GGCGATCGCAAGCGCGGCGAAGCCGGGCGCAGCGGGTCGCCACCATCGGACACA\n",
      "GGCGATCGCAAGCGCGGCGAAGCCGGGCGCAGCGGGTCGCCACCATCGGACACA\n",
      "GGCGATCGCAAGCGCGGCGAAGCCGGGCGCAGCGGGTCGCCACCATCGGACACA\n",
      "GGCGATCGCAAGCGCGGCGAAGCCGGGCGCAGCGGGTCGCCACCATCGGACACA\n",
      "GGCGATCGCAAGCGCGGCGAAGCCGGGCGCAGCGGGTCGCCACCATCGGACACA\n",
      "GGCGATCGCAAGCGCGGCGAAGCCGGGCGCAGCGGGTCGCCACCATCGGACACA\n"
     ]
    }
   ],
   "source": [
    "name = \"3171\"\n",
    "print(original[name].seq)\n",
    "print(H37Rv[name].seq)\n",
    "print(Beijing_391[name].seq)\n",
    "print(Beijing_like_1104[name].seq)\n",
    "print(Beijing_like_50148[name].seq)\n",
    "print(Beijing_like[name].seq)\n",
    "print(Beijing_like_36918[name].seq)\n",
    "print(Beijing_like_38774[name].seq)\n",
    "print(Beijing_like_35049[name].seq)\n",
    "print(kurono[name].seq)"
   ]
  },
  {
   "cell_type": "markdown",
   "metadata": {},
   "source": [
    "## 3690"
   ]
  },
  {
   "cell_type": "code",
   "execution_count": 67,
   "metadata": {},
   "outputs": [
    {
     "name": "stdout",
     "output_type": "stream",
     "text": [
      "AGCTCGGCGACGATGCACGCCGCGCAGCGGCGTGAGGAGGAGCCGAGCAGTCCAACAC\n",
      "AGCTCGGCGACGATGCACGCCGCGCAGCGGCGTGAGGAGGAGCCGAGCAGTCCAACAC\n",
      "AGCTCGGCGACGATGCACGCCGCGCAGCGGCGTGAGGAGGAGCCGAGCAGTCCAACAC\n",
      "AGCTCGGCGACGATGCACGCCGCGCAGCGGCGTGAGGAGGAGCCGAGCAGTCCAACAC\n",
      "AGCTCGGCGACGATGCACGCCGCGCAGCGGCGTGAGGAGGAGCCGAGCAGTCCAACAC\n",
      "AGCTCGGCGACGATGCACGCCGCGCAGCGGCGTGAGGAGGAGCCGAGCAGTCCAACAC\n",
      "AGCTCGGCGACGATGCACGCCGCGCAGCGGCGTGAGGAGGAGCCGAGCAGTCCAACAC\n",
      "AGCTCGGCGACGATGCACGCCGCGCAGCGGCGTGAGGAGGAGCCGAGCAGTCCAACAC\n",
      "AGCTCGGCGACGATGCACGCCGCGCAGCGGCGTGAGGAGGAGCCGAGCAGTCCAACAC\n",
      "AGCTCGGCGACGATGCACGCCGCGCAGCGGCGTGAGGAGGAGCCGAGCAGTCCAACAC\n"
     ]
    }
   ],
   "source": [
    "name = \"3690\"\n",
    "print(original[name].seq)\n",
    "print(H37Rv[name].seq)\n",
    "print(Beijing_391[name].seq)\n",
    "print(Beijing_like_1104[name].seq)\n",
    "print(Beijing_like_50148[name].seq)\n",
    "print(Beijing_like[name].seq)\n",
    "print(Beijing_like_36918[name].seq)\n",
    "print(Beijing_like_38774[name].seq)\n",
    "print(Beijing_like_35049[name].seq)\n",
    "print(kurono[name].seq)"
   ]
  },
  {
   "cell_type": "markdown",
   "metadata": {},
   "source": [
    "## 4052"
   ]
  },
  {
   "cell_type": "code",
   "execution_count": 15,
   "metadata": {},
   "outputs": [
    {
     "name": "stdout",
     "output_type": "stream",
     "text": [
      "CATCAGCCCCGTGGCGATCGCAAACCCCGCGCCTGGCGACAATGCGGCCCGCAAAACGGGCCGAGGAGGAGCCAGGCAATCACCCCAGAGCCGGGTGCAGCGGGTCGCCAC\n",
      "**********\n",
      "GAGCCGGGTGCAGCGGGTCGCCACCATCAGCCCCGTGGCGATCGCAAACCCCGCGCCTGGCGACAATGCGGCCCGCAAAACGGGCCGAGGAGGAGCCAGGCAATCACCCCA\n",
      "**********\n",
      "ATCAGCCCCGTGGCGATCGCAAACCCCGCGCCTGGCGACAATGCGGCCCGCAAAGCGGGCCGAGGAGGAGCCAGGCAATCACCCAGAGCCGGGTGCAGCGGGTCGCCACCATCAGCCCCGTGGCGATCGCAAACCCCGCGCCTGGCGACAATGCGGCCCGCAAAGCGGGCCGAGGAGGAGCCAGGCAATCACCCCAGAGCCGGGTGCAGCGGGTCGCCACC\n",
      "**********\n",
      "GGCCG\n",
      "**********\n",
      "GGCCG\n",
      "**********\n",
      "GAGCCGGGTGCAGCGGGTCGCCACCATCAGCCCCGTGGCGATCGCAAACCCCGCGCCTGGCGACAATGCGGCCCGCAAAGCGGGCCGAGGAGGAGCCAGGCAATCACCCCA\n",
      "**********\n",
      "GGCCG\n",
      "**********\n",
      "GAGCCGGGTGCAGCGGGTCGCCACCATCAGCCCCGTGGCGATCGCAAACCCCGCGCCTGGCGACAATGCGGCCCGCAAAGCGGGCCGAGGAGGAGCCAGGCAATCACCCCA\n",
      "**********\n",
      "GGCCG\n",
      "**********\n",
      "GAGCCGGGTGCAGCGGGTCGCCACCATCAGCCCCGTGGCGATCGCAAACCCCGCGCCTGGCGACAATGCGGCCCGCAAAACGGGCCGAGGAGGAGCCAGGCAATCACCCCA\n"
     ]
    }
   ],
   "source": [
    "name = \"4052\"\n",
    "print(original[name].seq.reverse_complement())\n",
    "print(\"**********\")\n",
    "print(H37Rv[name].seq)\n",
    "print(\"**********\")\n",
    "print(Beijing_391[name].seq)\n",
    "print(\"**********\")\n",
    "print(Beijing_like_1104[name].seq)\n",
    "print(\"**********\")\n",
    "print(Beijing_like_50148[name].seq)\n",
    "print(\"**********\")\n",
    "print(Beijing_like[name].seq)\n",
    "print(\"**********\")\n",
    "print(Beijing_like_36918[name].seq)\n",
    "print(\"**********\")\n",
    "print(Beijing_like_38774[name].seq)\n",
    "print(\"**********\")\n",
    "print(Beijing_like_35049[name].seq)\n",
    "print(\"**********\")\n",
    "print(kurono[name].seq)"
   ]
  },
  {
   "cell_type": "markdown",
   "metadata": {},
   "source": [
    "## 4156"
   ]
  },
  {
   "cell_type": "code",
   "execution_count": 69,
   "metadata": {},
   "outputs": [
    {
     "name": "stdout",
     "output_type": "stream",
     "text": [
      "ACGCGGGCGACCCGCCGCACCCGGCGACAAGCGCCGAGCTTGCGATCGCCCTGAATCCA\n",
      "ACGCGGGCGACCCGCCGCACCCGGCGACAAGCGCCGAGCTTGCGATCGCCCTGAATCCA\n",
      "ACGCGGGCGACCCGCCGCACCCGGCGACAAGCGCCGAGCTTGCGATCGCCCTGAATCCA\n",
      "ACGCGGGCGACCCGCCGCACCCGGCGACAAGCGCCGAGCTTGCGATCGCCCTGAATCCA\n",
      "ACGCGGGCGACCCGCCGCACCCGGCGACAAGCGCCGAGCTTGCGATCGCCCTGAATCCA\n",
      "ACGCGGGCGACCCGCCGCACCCGGCGACAAGCGCCGAGCTTGCGATCGCCCTGAATCCA\n",
      "ACGCGGGCGACCCGCCGCACCCGGCGACAAGCGCCGAGCTTGCGATCGCCCTGAATCCA\n",
      "ACGCGGGCGACCCGCCGCACCCGGCGACAAGCGCCGAGCTTGCGATCGCCCTGAATCCA\n",
      "ACGCGGGCGACCCGCCGCACCCGGCGACAAGCGCCGAGCTTGCGATCGCCCTGAATCCA\n",
      "ACGCGGGCGACCCGCCGCACCCGGCGACAAGCGCCGAGCTTGCGATCGCCCTGAATCCA\n"
     ]
    }
   ],
   "source": [
    "name = \"4156\"\n",
    "print(original[name].seq)\n",
    "print(H37Rv[name].seq)\n",
    "print(Beijing_391[name].seq)\n",
    "print(Beijing_like_1104[name].seq)\n",
    "print(Beijing_like_50148[name].seq)\n",
    "print(Beijing_like[name].seq)\n",
    "print(Beijing_like_36918[name].seq)\n",
    "print(Beijing_like_38774[name].seq)\n",
    "print(Beijing_like_35049[name].seq)\n",
    "print(kurono[name].seq)"
   ]
  },
  {
   "cell_type": "code",
   "execution_count": null,
   "metadata": {
    "collapsed": true
   },
   "outputs": [],
   "source": []
  }
 ],
 "metadata": {
  "kernelspec": {
   "display_name": "Python 3",
   "language": "python",
   "name": "python3"
  },
  "language_info": {
   "codemirror_mode": {
    "name": "ipython",
    "version": 3
   },
   "file_extension": ".py",
   "mimetype": "text/x-python",
   "name": "python",
   "nbconvert_exporter": "python",
   "pygments_lexer": "ipython3",
   "version": "3.6.3"
  }
 },
 "nbformat": 4,
 "nbformat_minor": 2
}
